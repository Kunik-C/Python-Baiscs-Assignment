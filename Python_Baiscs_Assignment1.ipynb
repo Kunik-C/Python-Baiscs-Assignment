{
  "nbformat": 4,
  "nbformat_minor": 0,
  "metadata": {
    "colab": {
      "provenance": [],
      "authorship_tag": "ABX9TyP4hNngnr1mfbN3KTq084hi",
      "include_colab_link": true
    },
    "kernelspec": {
      "name": "python3",
      "display_name": "Python 3"
    },
    "language_info": {
      "name": "python"
    }
  },
  "cells": [
    {
      "cell_type": "markdown",
      "metadata": {
        "id": "view-in-github",
        "colab_type": "text"
      },
      "source": [
        "<a href=\"https://colab.research.google.com/github/Kunik-C/Python-Baiscs-Assignment/blob/main/Python_Baiscs_Assignment1.ipynb\" target=\"_parent\"><img src=\"https://colab.research.google.com/assets/colab-badge.svg\" alt=\"Open In Colab\"/></a>"
      ]
    },
    {
      "cell_type": "markdown",
      "source": [
        "# **Q.1)Explain the key features of Python that make it a popular choice for programming**.\n",
        "\n",
        "\n",
        "\n",
        "**Ans.1)**\n",
        "\n",
        "The following are some of the key features of Python programming language that makes it popular:\n",
        "\n",
        "   \n",
        "\n",
        "1.   Python is a high level programming language which is easy to understand and easy to code into.\n",
        "2.    Python is a versatile language that is used in various programming fields such web development, data science, machine learning, artificial intelligence etc.\n",
        "3.  Python has a vast collection of libraries that can be implemented and used right away.\n",
        "4.  Python has a huge active community, working and improvising it on a regular basis."
      ],
      "metadata": {
        "id": "SQBaYLjFuVDY"
      }
    },
    {
      "cell_type": "markdown",
      "source": [
        "# **Q.2)Describe the role of predefined keywords in Python and provide examples of how they are used in a program.**\n",
        "\n",
        "\n",
        "**Ans.2)**\n",
        "\n",
        "Predefined keywords are special words that have a specified meaning and function in the language. They play a crution role in defining how the python program behaves, how it is structured, flow control and handling variables.\n",
        "\n",
        "***In the below example code we can se a multitude of predefined keywords:***\n",
        "\n",
        " 1.   True/False/None     - these keywords are Boolean keywords used to store true(1) or a false(0).\n",
        " 2.   if/elif/else     - these keywords are control flow keywords used to control the flow of program.\n",
        " 3.   and/or/not     - these keywords also called logical operators are used to combine two or more conditions and also to negate conditions.\n",
        " 4.   Print  - it is used to instruct the program to display data to user.\n"
      ],
      "metadata": {
        "id": "ndpWQmUxydvJ"
      }
    },
    {
      "cell_type": "code",
      "source": [
        "#example code for Q.2\n",
        "a = True\n",
        "b = False\n",
        "if a and not b:\n",
        "  print(\"This will print when 'a' is True and 'b' is False\")\n",
        "else:\n",
        "  print(\"This will print when either 'a' is False or 'b' is True\")"
      ],
      "metadata": {
        "colab": {
          "base_uri": "https://localhost:8080/"
        },
        "id": "7vv3GofQX4w9",
        "outputId": "c1b41998-db73-41e0-b594-74370d137d64"
      },
      "execution_count": null,
      "outputs": [
        {
          "output_type": "stream",
          "name": "stdout",
          "text": [
            "This will print when 'a' is True and 'b' is False\n"
          ]
        }
      ]
    },
    {
      "cell_type": "markdown",
      "source": [
        "# **Q.3)Compare and contrast mutable and immutable objects in Python with examples.**\n",
        "\n",
        "**Ans.3)**\n",
        "\n",
        " In Python mutable and immutable refers to the property of an object, weather it can be changed after it has been created or not:\n",
        "\n",
        "\n",
        "**Mutable object:** An object that can be changed after they are created is called mutable object\n",
        "\n",
        "    eg: Lists: list\n",
        "        Sets: set\n",
        "        Dictionaries: dict\n",
        "\n",
        "**Immutable object:** An object that cannot be changed after they are created is called immutable object. To modify an immutable object one has to create an entirely new object.\n",
        "\n",
        "    eg: Numbers: int,float\n",
        "        Strings: str\n",
        "        Tuples: tuple\n",
        "        Booleans: bool\n",
        "\n",
        "***Below are 2 codes as examples of mutable and immutable objects***"
      ],
      "metadata": {
        "id": "gCvVF72naWs1"
      }
    },
    {
      "cell_type": "code",
      "source": [
        "#example of mutable objects\n",
        "\n",
        "my_list = [1, 2, 3]\n",
        "new_list = my_list\n",
        "my_list.append(4)\n",
        "\n",
        "print(my_list)\n",
        "print(new_list)\n",
        "# both variables refering to same list as no new list was created during append"
      ],
      "metadata": {
        "colab": {
          "base_uri": "https://localhost:8080/"
        },
        "id": "Df7Ua5p6YUNu",
        "outputId": "f72894f9-0fdd-48ab-c2ab-b506dfa1c45c"
      },
      "execution_count": null,
      "outputs": [
        {
          "output_type": "stream",
          "name": "stdout",
          "text": [
            "[1, 2, 3, 4]\n",
            "[1, 2, 3, 4]\n"
          ]
        }
      ]
    },
    {
      "cell_type": "code",
      "source": [
        "#example of immutable objects\n",
        "a = \"hello\"\n",
        "b = a\n",
        "a = a + \" world\"\n",
        "\n",
        "print(a)\n",
        "print(b)\n",
        "#in this when a is concatenated it creates a new string thus a b become different strings"
      ],
      "metadata": {
        "colab": {
          "base_uri": "https://localhost:8080/"
        },
        "id": "CvH6gspDeWnz",
        "outputId": "58dfafd3-e36a-49c0-eda3-7ce8ec96d1dd"
      },
      "execution_count": null,
      "outputs": [
        {
          "output_type": "stream",
          "name": "stdout",
          "text": [
            "hello world\n",
            "hello\n"
          ]
        }
      ]
    },
    {
      "cell_type": "markdown",
      "source": [
        "# **Q.4)Discuss the different types of operators in Python and provide examples of how they are used.**\n",
        "\n",
        "Ans.4)\n",
        "\n",
        "The following are the types of operators in python\n",
        "\n",
        "    1.  Arithametic Operators:\n",
        "        These operators are used to perform mathematical operations.\n",
        "\n",
        "            eg: Addition(+)\n",
        "                Subtraction(-)\n",
        "                Multiplication(*)\n",
        "                Division(/)\n",
        "                Modulus(%)\n",
        "                Exponentials(**)\n",
        "\n",
        "    2.  Comparison Operators:\n",
        "        These operators are used to compare two values and return True or False\n",
        "\n",
        "            eg: Equal to(==)\n",
        "                Not Equal to(!=)\n",
        "                Greater than(>)\n",
        "                Less than(<)\n",
        "                Greater than or equal to(>=)\n",
        "                Less than or equal to(<=)\n",
        "\n",
        "      3.  Logical Operators:\n",
        "          These operators are used to combine conditional statements and return Boolean results.\n",
        "\n",
        "            eg: Logical AND(and)\n",
        "                Logical OR(or)\n",
        "                Logical NOT(not)\n",
        "\n",
        "      4.  Bitwise Operators:\n",
        "          These operators work at the bit level and are used to perform bit-level operations.\n",
        "\n",
        "            eg: Bitwise AND(&)\n",
        "                Bitwise OR(|)\n",
        "                Bitwise NOT(-)\n",
        "                Bitwise XOR(^)\n",
        "                Left Shift(<<)\n",
        "                Right Shift(>>)\n",
        "\n",
        "      5.  Assignment Operators:\n",
        "          These operators are used to assign values to variables, and some of them perform operations and then assign the result.\n",
        "\n",
        "            eg: Assignment(=)\n",
        "                Addition Assignment(+=)\n",
        "                Subtraction Assignment(-=)\n",
        "                Multiplication Assignment(*=)\n",
        "                Division Assignment(/=)\n",
        "\n",
        "      6.  Membership Operators:\n",
        "          These operators are used to check whether a value exists in a sequence\n",
        "\n",
        "            eg: in\n",
        "                not in\n",
        "\n",
        "      7.  Identity Operators:\n",
        "          These operators check whether two variables point to the same object in memory\n",
        "\n",
        "            eg: is\n",
        "                is not\n",
        "\n",
        "***Below are code examples of different types of operators***"
      ],
      "metadata": {
        "id": "BlDYSeHNe-7l"
      }
    },
    {
      "cell_type": "code",
      "source": [
        "#examples for different types of operators\n",
        "#Arithmatic\n",
        "x = 5\n",
        "y = 2\n",
        "print(x + y)\n",
        "print(x / y)\n",
        "\n",
        "#Comparison\n",
        "x = 10\n",
        "y = 5\n",
        "print(x > y)\n",
        "print(x == y)\n",
        "\n",
        "#Logical\n",
        "\n",
        "x = True\n",
        "y = False\n",
        "print(x and y)\n",
        "print(x or y)\n",
        "print(not x)\n",
        "\n",
        "#Bitwise\n",
        "\n",
        "x = 5  # Binary: 0101\n",
        "y = 3  # Binary: 0011\n",
        "print(x & y)\n",
        "\n",
        "#Assignment\n",
        "\n",
        "x = 10\n",
        "x += 5\n",
        "print(x)\n",
        "\n",
        "#Membership\n",
        "\n",
        "my_list = [1, 2, 3, 4]\n",
        "print(2 in my_list)\n",
        "print(5 not in my_list)\n",
        "\n",
        "#Identity\n",
        "\n",
        "x = [1, 2, 3]\n",
        "y = x\n",
        "z = [1, 2, 3]\n",
        "\n",
        "print(x is y)\n",
        "print(x is z)"
      ],
      "metadata": {
        "colab": {
          "base_uri": "https://localhost:8080/"
        },
        "id": "HD0ipFgtlTpn",
        "outputId": "2d51de2c-5d2d-4013-a686-8a3d25ac20f6"
      },
      "execution_count": null,
      "outputs": [
        {
          "output_type": "stream",
          "name": "stdout",
          "text": [
            "7\n",
            "2.5\n",
            "True\n",
            "False\n",
            "False\n",
            "True\n",
            "False\n",
            "1\n",
            "15\n",
            "True\n",
            "True\n",
            "True\n",
            "False\n"
          ]
        }
      ]
    },
    {
      "cell_type": "markdown",
      "source": [
        "# Q.5)Explain the concept of type casting in Python with examples\n",
        "\n",
        "**Ans.4)**\n",
        "\n",
        "Typecasting also referred to as type conversion is the process of converting one data type into another. It is used when the operations performed require both values to be of same type.\n",
        "\n",
        "There are two types of typecasting in python:\n",
        "\n",
        "    Implicit Typecasting:\n",
        "    python automatically converts data type into another without users involvement.\n",
        "\n",
        "    Explicit Typecasting:\n",
        "    Here the programmer explicitly converts one data type to another using functions like str(), int(),float(),list(), etc.\n"
      ],
      "metadata": {
        "id": "GZK4MiFhm6Kd"
      }
    },
    {
      "cell_type": "code",
      "source": [
        "#Implicit Typecasting\n",
        "x = 5\n",
        "y = 2.5\n",
        "\n",
        "\n",
        "result = x + y          # here x is automatically converted to float thus the result is float\n",
        "print(type(result))\n",
        "\n",
        "#Explicit typecasting\n",
        "a=2.4\n",
        "b=int(a)                #here we define the type to be integer\n",
        "print(type(b))"
      ],
      "metadata": {
        "colab": {
          "base_uri": "https://localhost:8080/"
        },
        "id": "R5qjA4U8oUTn",
        "outputId": "5febaf5e-6adb-43f6-c6cc-6f48c2680c7f"
      },
      "execution_count": null,
      "outputs": [
        {
          "output_type": "stream",
          "name": "stdout",
          "text": [
            "<class 'float'>\n",
            "<class 'int'>\n"
          ]
        }
      ]
    },
    {
      "cell_type": "markdown",
      "source": [
        "# Q.6)How do conditional statements work in Python? Illustrate with examples.\n",
        "\n",
        "Ans.6)\n",
        "\n",
        "Conditional statements use conditions to execute or not execute different sections of a program based on weather the condition is True or False\n",
        "\n",
        "eg:\n",
        "\n",
        "if-else: in this conditional statement it gives an option of either to execute the block of code within if or to execute the block of code within else.\n",
        "\n",
        "Given the condition that if condition is true, if block will be executed otherwise else block will be executed."
      ],
      "metadata": {
        "id": "wXkouZ9qo_un"
      }
    },
    {
      "cell_type": "code",
      "source": [
        "#code for conditional statements\n",
        "x = 3\n",
        "if x > 5:\n",
        "    print(\"x is greater than 5\")\n",
        "else:\n",
        "    print(\"x is not greater than 5\")"
      ],
      "metadata": {
        "colab": {
          "base_uri": "https://localhost:8080/"
        },
        "id": "fMeIEHpNqRPV",
        "outputId": "12bfa859-abdd-4108-b6fd-3bfc4d445f0d"
      },
      "execution_count": null,
      "outputs": [
        {
          "output_type": "stream",
          "name": "stdout",
          "text": [
            "x is not greater than 5\n"
          ]
        }
      ]
    },
    {
      "cell_type": "markdown",
      "source": [
        "# Q.7)Describe the different types of loops in Python and their use cases with examples.\n",
        "\n",
        "**Ans.7)**\n",
        "\n",
        "In python loops are used to execute same block of code multiple times till the specified conditions are met.\n",
        "\n",
        "**for loop**: It is executed by using a sequence as the condition for iteration of block of code. Often this type of loop is used when the number of iterations are known or can be calculated.\n",
        "\n",
        "**While loop**: While loop repeatedly executes the code block, as long as the specified condition is true. It is generally used when the number of iterations is not known.\n",
        "\n",
        "*Keywords such as break, continue and else are used to further control the functioning of iterating code block within the loop.*"
      ],
      "metadata": {
        "id": "R1tgNRT6qtq8"
      }
    },
    {
      "cell_type": "code",
      "source": [
        "#for loop\n",
        "\n",
        "for i in range(3):\n",
        "    print(i)\n",
        "else:\n",
        "    print(\"For loop completed\")\n",
        "\n",
        "#while loop\n",
        "\n",
        "i = 1\n",
        "while i <= 3:\n",
        "    print(i)\n",
        "    i += 1\n",
        "else:\n",
        "    print(\"While loop completed\")"
      ],
      "metadata": {
        "colab": {
          "base_uri": "https://localhost:8080/"
        },
        "id": "NzYItMncqtUK",
        "outputId": "e416e3bd-874e-4dbf-da56-d634007be100"
      },
      "execution_count": null,
      "outputs": [
        {
          "output_type": "stream",
          "name": "stdout",
          "text": [
            "0\n",
            "1\n",
            "2\n",
            "For loop completed\n",
            "1\n",
            "2\n",
            "3\n",
            "While loop completed\n"
          ]
        }
      ]
    }
  ]
}