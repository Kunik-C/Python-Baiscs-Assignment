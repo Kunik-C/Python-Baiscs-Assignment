{
  "nbformat": 4,
  "nbformat_minor": 0,
  "metadata": {
    "colab": {
      "provenance": [],
      "authorship_tag": "ABX9TyOvk7w1NGyDSHorPqF5p7B8",
      "include_colab_link": true
    },
    "kernelspec": {
      "name": "python3",
      "display_name": "Python 3"
    },
    "language_info": {
      "name": "python"
    }
  },
  "cells": [
    {
      "cell_type": "markdown",
      "metadata": {
        "id": "view-in-github",
        "colab_type": "text"
      },
      "source": [
        "<a href=\"https://colab.research.google.com/github/Kunik-C/Python-Baiscs-Assignment/blob/main/Assignmnet_Data_Structure.ipynb\" target=\"_parent\"><img src=\"https://colab.research.google.com/assets/colab-badge.svg\" alt=\"Open In Colab\"/></a>"
      ]
    },
    {
      "cell_type": "markdown",
      "source": [
        "# **Q_1)Discuss string slicing and provide examples.**\n",
        "\n",
        "**Ans1)**\n",
        "\n",
        "String slicing in Python allows you to extract a portion (substring) of a string. Strings are indexed, meaning that each character in a string has a position (index) starting from 0 for the first character, 1 for the second, and so on. You can access parts of a string using the slice notation.\n",
        "\n",
        "\n",
        "Below is the format of string slicing:\n",
        "\n",
        "      string[start:stop:step]\n",
        "\n",
        "      start: The index at which the slice starts (inclusive)\n",
        "      stop: The index at which the slice stops (exclusive)\n",
        "      step: The number of steps or intervals to take between indices (default is 1)\n",
        "\n"
      ],
      "metadata": {
        "id": "Z7REsEhIE2gm"
      }
    },
    {
      "cell_type": "code",
      "source": [
        "#example of string slicing\n",
        "\n",
        "text = \"Python Programming\"\n",
        "print(text[:6])     # sub string from index 0 to index 6(excluded)\n",
        "print(text[7:])     # sub string from index 7 to last index\n",
        "print(text[-6:-1])  # sub string from last 6th index to last index(excluded)\n",
        "print(text[5:2:-1]) # sub string from 5th index to 2nd index(excluded) in reverse"
      ],
      "metadata": {
        "colab": {
          "base_uri": "https://localhost:8080/"
        },
        "id": "fCYaWsQFF3YW",
        "outputId": "7a7d5ff7-ea2f-4ed6-aa19-8f2d4fed73d5"
      },
      "execution_count": 1,
      "outputs": [
        {
          "output_type": "stream",
          "name": "stdout",
          "text": [
            "Python\n",
            "Programming\n",
            "ammin\n",
            "noh\n"
          ]
        }
      ]
    },
    {
      "cell_type": "markdown",
      "source": [
        "# **Q_2)Explain the key features of lists in Python.**\n",
        "\n",
        "**Ans_2)**\n",
        "\n",
        "Lists are one of the most versatile and commonly used data structures. They are used to store an ordered collection of items, which can be of any data type. Here are the key features of lists in Python:\n",
        "\n",
        "\n",
        "\n",
        "*   **Ordered**: Elements have a defined order.\n",
        "*   **Mutable**: You can modify the list.\n",
        "*   **Dynamic** size: Can grow or shrink as needed.\n",
        "*   **Heterogeneous**: Can store elements of different types.\n",
        "*   **Supports duplicates**: Allows repeated elements.\n",
        "*   **Slicing and indexing**: For accessing specific parts of the list.\n",
        "*   **List comprehensions**: For concise list creation.\n",
        "*   **Built-in methods**: Provide various operations on lists.\n",
        "*   **Nesting**: Lists can contain other lists.\n",
        "*   **Iterability**: Can loop through lists easily\n",
        "\n"
      ],
      "metadata": {
        "id": "HGbOBDWWHGu_"
      }
    },
    {
      "cell_type": "code",
      "source": [
        "#example of list\n",
        "#mutability\n",
        "my_list = [1, 2, 3]\n",
        "my_list[0] = 100\n",
        "print(my_list)\n",
        "\n",
        "#slicing\n",
        "my_list = [10, 20, 30, 40, 50]\n",
        "print(my_list[1:4])\n",
        "\n",
        "#iterability\n",
        "my_list = [1, 2, 3, 4]\n",
        "for item in my_list:\n",
        "    print(item)\n"
      ],
      "metadata": {
        "colab": {
          "base_uri": "https://localhost:8080/"
        },
        "id": "hnB0FBApIPdf",
        "outputId": "110e3cb4-0209-4ad8-c129-3d1960d30aea"
      },
      "execution_count": 2,
      "outputs": [
        {
          "output_type": "stream",
          "name": "stdout",
          "text": [
            "[100, 2, 3]\n",
            "[20, 30, 40]\n",
            "1\n",
            "2\n",
            "3\n",
            "4\n"
          ]
        }
      ]
    },
    {
      "cell_type": "markdown",
      "source": [
        "# **Q_3)Describe how to access, modify, and delete elements in a list with examples**\n",
        "\n",
        "**Ans_3)**\n",
        "\n",
        "Lists are flexible and allow easy access, modification, and deletion of elements. Here's how you can perform these operations:\n",
        "\n",
        "**1. Accessing Elements in a List**\n",
        "\n",
        "*    Indexing: we can use the index of an element to call it individually for our uscase\n",
        "*   Slicing: we can access a range of elements using slicing.\n",
        "\n"
      ],
      "metadata": {
        "id": "RiUh6GdgJGFm"
      }
    },
    {
      "cell_type": "code",
      "source": [
        "#coede for accessing elements\n",
        "my_list = [10, 20, 30, 40, 50]\n",
        "#indexing\n",
        "print(my_list[0])\n",
        "#slicing\n",
        "print(my_list[1:4])"
      ],
      "metadata": {
        "colab": {
          "base_uri": "https://localhost:8080/"
        },
        "id": "CtkulflKLbQN",
        "outputId": "4ac7afb8-110e-41ed-e169-382f0f7e435f"
      },
      "execution_count": 3,
      "outputs": [
        {
          "output_type": "stream",
          "name": "stdout",
          "text": [
            "10\n",
            "[20, 30, 40]\n"
          ]
        }
      ]
    },
    {
      "cell_type": "markdown",
      "source": [
        "**2. Modifying Elements in a List**\n",
        "\n",
        "Since lists are mutable, we can modify elements by directly assigning new values using indexing.\n",
        "\n",
        "*   Modifying a Single Element: we can change the value of an element by assigning a new value to its index\n",
        "*   Modifying Multiple Elements: we can modify multiple elements using slicing.\n",
        "\n"
      ],
      "metadata": {
        "id": "K3b4qN89LSx9"
      }
    },
    {
      "cell_type": "code",
      "source": [
        "my_list = [10, 20, 30, 40, 50]\n",
        "#modify single element\n",
        "my_list[1] = 200\n",
        "print(my_list)\n",
        "#modify multiple elements\n",
        "my_list[1:4] = [200, 300, 400]\n",
        "print(my_list)"
      ],
      "metadata": {
        "colab": {
          "base_uri": "https://localhost:8080/"
        },
        "id": "bh8XmpHDLbwn",
        "outputId": "6b49b023-adfa-4ad9-9d18-c7743b0c7da5"
      },
      "execution_count": 4,
      "outputs": [
        {
          "output_type": "stream",
          "name": "stdout",
          "text": [
            "[10, 200, 30, 40, 50]\n",
            "[10, 200, 300, 400, 50]\n"
          ]
        }
      ]
    },
    {
      "cell_type": "markdown",
      "source": [
        "**3. Deleting Elements in a List**\n",
        "\n",
        "We can delete elements from a list using the following methods:\n",
        "\n",
        "*   Using **del** Statement:delete specific elements or slices of elements using del\n",
        "\n",
        "*   Using **remove()** Method:\n",
        "remove(value) deletes the first occurrence of the specified value in the list.\n",
        "\n",
        "*   Using **pop()** Method:\n",
        "pop(index) removes and returns the element at the specified index. If no index is provided, it removes and returns the last element.\n",
        "\n",
        "*   Using **clear()** Method:\n",
        "clear() removes all elements from the list, making it an empty list."
      ],
      "metadata": {
        "id": "QEF6z92hLTCj"
      }
    },
    {
      "cell_type": "code",
      "source": [
        "my_list = [10, 20, 30, 40, 50]\n",
        "#del method\n",
        "del my_list[1]\n",
        "print(my_list)\n",
        "#remove method\n",
        "my_list.remove(30)\n",
        "print(my_list)\n",
        "#pop method\n",
        "last_element = my_list.pop()\n",
        "print(last_element)\n",
        "print(my_list)\n",
        "#clear method\n",
        "my_list.clear()\n",
        "print(my_list)"
      ],
      "metadata": {
        "colab": {
          "base_uri": "https://localhost:8080/"
        },
        "id": "_Bev0ZHlLcLy",
        "outputId": "190a8a2a-fba4-496f-f254-7067199b8e71"
      },
      "execution_count": 5,
      "outputs": [
        {
          "output_type": "stream",
          "name": "stdout",
          "text": [
            "[10, 30, 40, 50]\n",
            "[10, 40, 50]\n",
            "50\n",
            "[10, 40]\n",
            "[]\n"
          ]
        }
      ]
    },
    {
      "cell_type": "markdown",
      "source": [
        "# **Q_4)Compare and contrast tuples and lists with examples**\n",
        "\n",
        "**Ans_4)**\n",
        "\n",
        "In Python, both tuples and lists are used to store collections of items, but they differ in several key ways. Here's a comparison of their similarities and differences:\n",
        "\n",
        "**1. Syntax**\n",
        "\n",
        "    Lists are created using square brackets [].\n",
        "    \n",
        "    Tuples are created using parentheses ()."
      ],
      "metadata": {
        "id": "ueMQfNycMuAO"
      }
    },
    {
      "cell_type": "code",
      "source": [
        "#example of list\n",
        "my_list = [1, 2, 3]\n",
        "#example of tuple\n",
        "my_tuple = (1, 2, 3)"
      ],
      "metadata": {
        "id": "2HJKUGK5Nj--"
      },
      "execution_count": null,
      "outputs": []
    },
    {
      "cell_type": "markdown",
      "source": [
        "**2. Mutability**\n",
        "\n",
        "    Lists are mutable, meaning you can modify, add, or remove elements after the list is created.\n",
        "    \n",
        "    Tuples are immutable, meaning once a tuple is created, it cannot be modified."
      ],
      "metadata": {
        "id": "pq1Lp1KTNr9K"
      }
    },
    {
      "cell_type": "code",
      "source": [
        "#example of list being mutable\n",
        "my_list = [10, 20, 30]\n",
        "my_list[1] = 200\n",
        "print(my_list)\n",
        "#example of tuple being immutable\n",
        "my_tuple = (10, 20, 30)\n",
        "# my_tuple[1]=200 this will give an error if executed"
      ],
      "metadata": {
        "colab": {
          "base_uri": "https://localhost:8080/"
        },
        "id": "2WRxpDLxN0iW",
        "outputId": "5a23df50-a830-49f1-9c14-659f96ef88e2"
      },
      "execution_count": 7,
      "outputs": [
        {
          "output_type": "stream",
          "name": "stdout",
          "text": [
            "[10, 200, 30]\n"
          ]
        }
      ]
    },
    {
      "cell_type": "markdown",
      "source": [
        "**3. Use Cases**\n",
        "\n",
        "    Lists are better suited for dynamic collections of items where you need to modify, add, or remove elements frequently.\n",
        "    \n",
        "    Tuples are better for static collections of items that shouldn’t change, such as representing constant data or fixed records like coordinates, dates, or configuration values."
      ],
      "metadata": {
        "id": "dGi5BZ8ROJG3"
      }
    },
    {
      "cell_type": "markdown",
      "source": [
        "**4. Size**\n",
        "\n",
        "    Because tuples are immutable and simpler in structure, they take up less memory compared to lists of the same size.\n",
        "    \n",
        "    Lists, being mutable, have extra overhead for dynamic memory allocation and resizing, leading to larger memory consumption."
      ],
      "metadata": {
        "id": "uSqywAbAOf5X"
      }
    },
    {
      "cell_type": "markdown",
      "source": [
        "**5. Iteration**\n",
        "\n",
        "    Both lists and tuples are iterable, meaning you can loop through their elements using a for loop.\n",
        "    \n",
        "    However, because of its immutability and simpler structure, iterating over a tuple can be slightly faster than iterating over a list."
      ],
      "metadata": {
        "id": "hef48DJWOmhw"
      }
    },
    {
      "cell_type": "markdown",
      "source": [
        "**6. Performance**\n",
        "\n",
        "    Tuples are generally faster than lists because they are immutable, making their internal structure simpler.\n",
        "    \n",
        "    Lists, being mutable, require more overhead to support dynamic resizing and element modification."
      ],
      "metadata": {
        "id": "IvTn_IJ7O8fk"
      }
    },
    {
      "cell_type": "markdown",
      "source": [
        "# **Q_5)Describe the key features of sets and provide examples of their use**\n",
        "\n",
        "**Ans_5)**\n",
        "\n",
        "In Python, a set is a built-in data structure that is used to store unique, unordered elements. Sets are highly useful when you need to eliminate duplicates, perform membership tests, or work with mathematical set operations such as union, intersection, and difference\n",
        "\n",
        "Key Features of Sets\n",
        "\n",
        "**1. Unordered Collection**\n",
        "\n",
        "Sets are unordered, meaning that elements do not have a specific order and cannot be accessed via indexing. Every time you display a set, the order of elements may change."
      ],
      "metadata": {
        "id": "RHsymTVfPH4J"
      }
    },
    {
      "cell_type": "code",
      "source": [
        "#example of unordered set\n",
        "my_set = {3, 1, 2}\n",
        "print(my_set)"
      ],
      "metadata": {
        "colab": {
          "base_uri": "https://localhost:8080/"
        },
        "id": "Dc4wQ7ucP8dz",
        "outputId": "a6d779de-6b4f-44e6-969a-fc91a0e0fcba"
      },
      "execution_count": 8,
      "outputs": [
        {
          "output_type": "stream",
          "name": "stdout",
          "text": [
            "{1, 2, 3}\n"
          ]
        }
      ]
    },
    {
      "cell_type": "markdown",
      "source": [
        "**2. Unique Elements**\n",
        "\n",
        "A set automatically removes any duplicate values. If you add duplicates, they will only appear once in the set."
      ],
      "metadata": {
        "id": "oMgGPb9tQAw2"
      }
    },
    {
      "cell_type": "code",
      "source": [
        "# unique elements\n",
        "my_set = {1, 2, 2, 3, 4, 4}\n",
        "print(my_set)"
      ],
      "metadata": {
        "colab": {
          "base_uri": "https://localhost:8080/"
        },
        "id": "gLgV9ZDGQFM7",
        "outputId": "959ad0b0-84af-41a1-bd92-bd69ee6dc2ea"
      },
      "execution_count": 9,
      "outputs": [
        {
          "output_type": "stream",
          "name": "stdout",
          "text": [
            "{1, 2, 3, 4}\n"
          ]
        }
      ]
    },
    {
      "cell_type": "markdown",
      "source": [
        "**3. Mutable (Modifiable)**\n",
        "\n",
        "Although sets are unordered and do not support indexing, they are mutable, meaning you can add, remove, and modify their elements."
      ],
      "metadata": {
        "id": "F6kRCO5lQL44"
      }
    },
    {
      "cell_type": "code",
      "source": [
        "my_set = {1, 2, 3}\n",
        "my_set.add(4)\n",
        "print(my_set)"
      ],
      "metadata": {
        "colab": {
          "base_uri": "https://localhost:8080/"
        },
        "id": "Wf6ibBkfQLPA",
        "outputId": "2fb65421-cfae-47eb-fd35-72fa523ff974"
      },
      "execution_count": 10,
      "outputs": [
        {
          "output_type": "stream",
          "name": "stdout",
          "text": [
            "{1, 2, 3, 4}\n"
          ]
        }
      ]
    },
    {
      "cell_type": "markdown",
      "source": [
        "**4. No Duplicates**\n",
        "\n",
        "Sets are an excellent data structure for ensuring that only unique values are stored. If you try to add a duplicate value, it will be ignored."
      ],
      "metadata": {
        "id": "SZYXHYO6QV-f"
      }
    },
    {
      "cell_type": "code",
      "source": [
        "my_set = {1, 2, 3}\n",
        "my_set.add(2)  # Adding a duplicate value\n",
        "print(my_set)"
      ],
      "metadata": {
        "colab": {
          "base_uri": "https://localhost:8080/"
        },
        "id": "XE50eKluQZH4",
        "outputId": "17ae04f4-c02b-4850-d5a9-1721620c98aa"
      },
      "execution_count": 11,
      "outputs": [
        {
          "output_type": "stream",
          "name": "stdout",
          "text": [
            "{1, 2, 3}\n"
          ]
        }
      ]
    },
    {
      "cell_type": "markdown",
      "source": [
        "**5. Efficient Membership Tests**\n",
        "\n",
        "Sets are optimized for membership tests, which means that checking whether an element is in a set is very fast (compared to lists or tuples)."
      ],
      "metadata": {
        "id": "Dm9J7unqQdt8"
      }
    },
    {
      "cell_type": "code",
      "source": [
        "my_set = {1, 2, 3}\n",
        "print(2 in my_set)  # Output: True\n",
        "print(5 in my_set)  # Output: False"
      ],
      "metadata": {
        "colab": {
          "base_uri": "https://localhost:8080/"
        },
        "id": "CVArz8r7QkCe",
        "outputId": "aef0f08c-6e1e-4999-ce8e-575eaefd1706"
      },
      "execution_count": 12,
      "outputs": [
        {
          "output_type": "stream",
          "name": "stdout",
          "text": [
            "True\n",
            "False\n"
          ]
        }
      ]
    },
    {
      "cell_type": "markdown",
      "source": [
        "**6. Set Operations (Union, Intersection, Difference, Symmetric Difference)**\n",
        "\n",
        "Sets support mathematical operations like union, intersection, difference, and symmetric difference"
      ],
      "metadata": {
        "id": "vyoVx5NnQmpy"
      }
    },
    {
      "cell_type": "code",
      "source": [
        "#Union\n",
        "set1 = {1, 2, 3}\n",
        "set2 = {2, 3, 4}\n",
        "print(set1 | set2)  # Output: {1, 2, 3, 4}\n",
        "\n",
        "#intersection\n",
        "print(set1 & set2)  # Output: {2, 3}\n",
        "\n",
        "#difference\n",
        "print(set1 - set2)  # Output: {1}\n",
        "\n",
        "#Symmetric Difference\n",
        "print(set1 ^ set2)  # Output: {1, 4}\n"
      ],
      "metadata": {
        "colab": {
          "base_uri": "https://localhost:8080/"
        },
        "id": "Pu8IZXq7QrT5",
        "outputId": "6e53904a-a95b-4dfa-be33-89858674b603"
      },
      "execution_count": 13,
      "outputs": [
        {
          "output_type": "stream",
          "name": "stdout",
          "text": [
            "{1, 2, 3, 4}\n",
            "{2, 3}\n",
            "{1}\n",
            "{1, 4}\n"
          ]
        }
      ]
    },
    {
      "cell_type": "markdown",
      "source": [
        "# **Q_6)Discuss the use cases of tuples and sets in Python programming.**\n",
        "**Ans_6)**\n",
        "\n",
        "In Python programming, both tuples and sets have distinct use cases due to their unique properties. Let's discuss the specific use cases of each, highlighting their strengths and applications.\n",
        "\n",
        "**Common Use Cases for Tuples:**\n",
        "\n",
        "1. Storing Multiple Related Values\n",
        "    \n",
        "    Tuples are often used to store data that is conceptually grouped but doesn’t need to change. For example, representing coordinates, RGB values, or settings.\n",
        "\n"
      ],
      "metadata": {
        "id": "KX9XyCRvUTxj"
      }
    },
    {
      "cell_type": "code",
      "source": [
        "#example\n",
        "# Storing 2D coordinates\n",
        "coordinates = (10, 20)"
      ],
      "metadata": {
        "id": "d8dFsL00U89q"
      },
      "execution_count": 21,
      "outputs": []
    },
    {
      "cell_type": "markdown",
      "source": [
        "2. Returning Multiple Values from a Function\n",
        "\n",
        "    Tuples allow a function to return multiple values at once in a structured way."
      ],
      "metadata": {
        "id": "l0ku3SqoWOnv"
      }
    },
    {
      "cell_type": "code",
      "source": [
        "#example\n",
        "def get_user_info():\n",
        "    return \"Alice\", 25, \"New York\"\n",
        "\n",
        "name, age, city = get_user_info()\n",
        "print(name, age, city)  # Output: Alice 25 New York"
      ],
      "metadata": {
        "colab": {
          "base_uri": "https://localhost:8080/"
        },
        "id": "Y3qZQhBdWUdQ",
        "outputId": "9b3fa62f-936a-48ab-8f30-2c5e060b8226"
      },
      "execution_count": 22,
      "outputs": [
        {
          "output_type": "stream",
          "name": "stdout",
          "text": [
            "Alice 25 New York\n"
          ]
        }
      ]
    },
    {
      "cell_type": "markdown",
      "source": [
        "3. Using Tuples as Keys in a Dictionary\n",
        "\n",
        "    Since tuples are immutable, they can be used as keys in dictionaries (unlike lists, which are mutable and can't be used as dictionary keys)."
      ],
      "metadata": {
        "id": "5hrhqaj-WYPi"
      }
    },
    {
      "cell_type": "code",
      "source": [
        "#example\n",
        "locations = {\n",
        "    (40.7128, -74.0060): \"New York\",\n",
        "    (34.0522, -118.2437): \"Los Angeles\"\n",
        "}"
      ],
      "metadata": {
        "id": "BlHegLOBWbhG"
      },
      "execution_count": 23,
      "outputs": []
    },
    {
      "cell_type": "markdown",
      "source": [
        "4. Data Integrity in Read-Only Scenarios\n",
        "\n",
        "    Tuples ensure that data remains unchanged throughout the program. This makes them ideal for storing data that shouldn’t be modified, such as configuration settings, constant values, or lookup tables."
      ],
      "metadata": {
        "id": "93S4jIbrWfC1"
      }
    },
    {
      "cell_type": "code",
      "source": [
        "# Immutable configuration settings\n",
        "config = (\"localhost\", 8080, \"admin\")"
      ],
      "metadata": {
        "id": "wMcP3eKYWmOy"
      },
      "execution_count": 24,
      "outputs": []
    },
    {
      "cell_type": "markdown",
      "source": [
        "5. Unpacking and Parallel Assignment\n",
        "\n",
        "    Tuples are useful when you need to unpack values or perform parallel assignments."
      ],
      "metadata": {
        "id": "p67S5JKzWlk4"
      }
    },
    {
      "cell_type": "code",
      "source": [
        "x, y = (10, 20)\n",
        "print(x)  # Output: 10\n",
        "print(y)  # Output: 20"
      ],
      "metadata": {
        "colab": {
          "base_uri": "https://localhost:8080/"
        },
        "id": "ZlnwE8HhWqVY",
        "outputId": "5e605403-b7b0-4607-8b4d-ea794b90201b"
      },
      "execution_count": 25,
      "outputs": [
        {
          "output_type": "stream",
          "name": "stdout",
          "text": [
            "10\n",
            "20\n"
          ]
        }
      ]
    },
    {
      "cell_type": "markdown",
      "source": [
        "6. Efficient Memory Usage\n",
        "\n",
        "    Tuples use less memory compared to lists. This makes them ideal for situations where memory optimization is crucial, especially when storing large datasets that don't need modification."
      ],
      "metadata": {
        "id": "pubUqNMhWuF6"
      }
    },
    {
      "cell_type": "markdown",
      "source": [
        "**Common Use Cases for Sets:**\n",
        "\n",
        "1. Removing Duplicates from a List\n",
        "\n",
        "    Sets are perfect for eliminating duplicates when you only want unique elements."
      ],
      "metadata": {
        "id": "qabgUJdNWwfc"
      }
    },
    {
      "cell_type": "code",
      "source": [
        "#example\n",
        "my_list = [1, 2, 2, 3, 4, 4, 5]\n",
        "unique_set = set(my_list)\n",
        "print(unique_set)  # Output: {1, 2, 3, 4, 5}"
      ],
      "metadata": {
        "colab": {
          "base_uri": "https://localhost:8080/"
        },
        "id": "UWhbCTYJW7Gj",
        "outputId": "11757f05-334a-4beb-fcb6-4699cc5ab09f"
      },
      "execution_count": 26,
      "outputs": [
        {
          "output_type": "stream",
          "name": "stdout",
          "text": [
            "{1, 2, 3, 4, 5}\n"
          ]
        }
      ]
    },
    {
      "cell_type": "markdown",
      "source": [
        "2. Efficient Membership Testing\n",
        "\n",
        "    Sets provide a very efficient way to check whether an element exists or not. This makes sets ideal for membership checks."
      ],
      "metadata": {
        "id": "mGhKaDnvW9c5"
      }
    },
    {
      "cell_type": "code",
      "source": [
        "#example\n",
        "usernames = {\"alice\", \"bob\", \"charlie\"}\n",
        "print(\"bob\" in usernames)  # Output: True\n",
        "print(\"eve\" in usernames)  # Output: False"
      ],
      "metadata": {
        "colab": {
          "base_uri": "https://localhost:8080/"
        },
        "id": "D9OQOJP0W_UG",
        "outputId": "102c9a4f-d9a9-4ea9-9358-5332c7e5b2cb"
      },
      "execution_count": 27,
      "outputs": [
        {
          "output_type": "stream",
          "name": "stdout",
          "text": [
            "True\n",
            "False\n"
          ]
        }
      ]
    },
    {
      "cell_type": "markdown",
      "source": [
        "3. Mathematical Set Operations\n",
        "\n",
        "    Sets are ideal for performing mathematical set operations like union, intersection, difference, and symmetric difference. These operations are very fast and efficient with sets."
      ],
      "metadata": {
        "id": "tDC_DgRTXBsW"
      }
    },
    {
      "cell_type": "code",
      "source": [
        "#example\n",
        "set1 = {1, 2, 3}\n",
        "set2 = {3, 4, 5}\n",
        "\n",
        "# Union: Combine all elements\n",
        "print(set1 | set2)  # Output: {1, 2, 3, 4, 5}\n",
        "\n",
        "# Intersection: Elements common to both sets\n",
        "print(set1 & set2)  # Output: {3}"
      ],
      "metadata": {
        "colab": {
          "base_uri": "https://localhost:8080/"
        },
        "id": "RVIL6ecFXEXS",
        "outputId": "190d123a-9491-4878-e085-f97fd90d739b"
      },
      "execution_count": 30,
      "outputs": [
        {
          "output_type": "stream",
          "name": "stdout",
          "text": [
            "{1, 2, 3, 4, 5}\n",
            "{3}\n"
          ]
        }
      ]
    },
    {
      "cell_type": "markdown",
      "source": [
        "4. Finding Unique Elements\n",
        "\n",
        "    When you need to keep only unique elements from a collection, a set is the best option. This is especially useful in scenarios where duplicates should be eliminated."
      ],
      "metadata": {
        "id": "nfV8pwueXHbf"
      }
    },
    {
      "cell_type": "code",
      "source": [
        "text = \"apple banana apple orange banana grape\"\n",
        "unique_words = set(text.split())\n",
        "print(unique_words)  # Output: {'banana', 'apple', 'orange', 'grape'}"
      ],
      "metadata": {
        "colab": {
          "base_uri": "https://localhost:8080/"
        },
        "id": "tbDEnUHnXJko",
        "outputId": "e97bfbde-7b27-4b50-e7d1-6b28be14adbd"
      },
      "execution_count": 28,
      "outputs": [
        {
          "output_type": "stream",
          "name": "stdout",
          "text": [
            "{'grape', 'banana', 'apple', 'orange'}\n"
          ]
        }
      ]
    },
    {
      "cell_type": "markdown",
      "source": [
        "5. Fast Data Lookup\n",
        "\n",
        "    Due to the way sets are implemented, membership testing and lookups are much faster than with lists, especially for large datasets."
      ],
      "metadata": {
        "id": "4baRGN_lXLnw"
      }
    },
    {
      "cell_type": "code",
      "source": [
        "#example\n",
        "allowed_permissions = {\"read\", \"write\", \"execute\"}\n",
        "if \"write\" in allowed_permissions:\n",
        "    print(\"You have write permission.\")"
      ],
      "metadata": {
        "colab": {
          "base_uri": "https://localhost:8080/"
        },
        "id": "vJVZl28NXOPf",
        "outputId": "e4ed358b-b2de-4fef-a999-875d98f59739"
      },
      "execution_count": 29,
      "outputs": [
        {
          "output_type": "stream",
          "name": "stdout",
          "text": [
            "You have write permission.\n"
          ]
        }
      ]
    },
    {
      "cell_type": "markdown",
      "source": [
        "6. Set-Based Deduplication and Comparison\n",
        "\n",
        "    Sets allow you to efficiently compare two or more collections and find differences, making them ideal for tasks such as finding common or unique items between two lists."
      ],
      "metadata": {
        "id": "5xsNpq9lXSqZ"
      }
    },
    {
      "cell_type": "code",
      "source": [
        "#example\n",
        "set_a = {1, 2, 3, 4}\n",
        "set_b = {3, 4, 5, 6}\n",
        "\n",
        "# Elements in set_a but not in set_b\n",
        "print(set_a - set_b)  # Output: {1, 2}"
      ],
      "metadata": {
        "colab": {
          "base_uri": "https://localhost:8080/"
        },
        "id": "Zn11Vyr_XYbQ",
        "outputId": "496add29-c95a-49d4-c520-1edf8c54b948"
      },
      "execution_count": 31,
      "outputs": [
        {
          "output_type": "stream",
          "name": "stdout",
          "text": [
            "{1, 2}\n"
          ]
        }
      ]
    },
    {
      "cell_type": "markdown",
      "source": [
        "7. Frozenset for Immutable Sets\n",
        "\n",
        "    If you need an immutable version of a set (i.e., a set whose values cannot be changed after creation), you can use a frozenset. This is particularly useful when working with collections that shouldn't be modified."
      ],
      "metadata": {
        "id": "uUsIXXQ-Xa7U"
      }
    },
    {
      "cell_type": "code",
      "source": [
        "#example\n",
        "immutable_set = frozenset([1, 2, 3])\n",
        "# immutable_set.add(4)  # This will raise an error"
      ],
      "metadata": {
        "id": "Rf3kpHN7XdHz"
      },
      "execution_count": 32,
      "outputs": []
    },
    {
      "cell_type": "markdown",
      "source": [
        "# **Q_7)Describe how to add, modify, and delete items in a dictionary with examples.**\n",
        "\n",
        "**Ans_7)**\n",
        "\n",
        "Dictionaries are a powerful data structure that store data in key-value pairs. They allow fast lookups and efficient data management. Below are the methods to add, modify and delete items in a dictionary with examples:\n",
        "\n",
        "**1. Adding Items to a Dictionary**\n",
        "\n",
        "To add items to a dictionary, you assign a new key-value pair to the dictionary using the following syntax:\n",
        "\n",
        "    dictionary[key] = value\n",
        "\n",
        "If the key already exists, the value will be updated.\n",
        "\n",
        "If the key doesn’t exist, a new key-value pair will be added."
      ],
      "metadata": {
        "id": "L4e0sOkNRmhs"
      }
    },
    {
      "cell_type": "code",
      "source": [
        "# example adding items to dictionary\n",
        "my_dict = {}\n",
        "my_dict['name'] = 'Alice'\n",
        "my_dict['age'] = 25\n",
        "my_dict['city'] = 'New York'\n",
        "\n",
        "print(my_dict)\n",
        "# Output: {'name': 'Alice', 'age': 25, 'city': 'New York'}"
      ],
      "metadata": {
        "colab": {
          "base_uri": "https://localhost:8080/"
        },
        "id": "HGHi98AKSZz6",
        "outputId": "7e02e55a-0a99-41fb-a15e-bfda4397e753"
      },
      "execution_count": 15,
      "outputs": [
        {
          "output_type": "stream",
          "name": "stdout",
          "text": [
            "{'name': 'Alice', 'age': 25, 'city': 'New York'}\n"
          ]
        }
      ]
    },
    {
      "cell_type": "markdown",
      "source": [
        "**2. Modifying Items in a Dictionary**\n",
        "\n",
        "To modify an item in a dictionary, you simply assign a new value to an existing key.\n",
        "\n",
        "    dictionary[key] = new_value\n",
        "\n",
        "If the key exists, the associated value is replaced.\n",
        "\n",
        "If the key doesn’t exist, the key-value pair is added as a new entry."
      ],
      "metadata": {
        "id": "yDPeWL2NSjrH"
      }
    },
    {
      "cell_type": "code",
      "source": [
        "my_dict = {'name': 'Alice', 'age': 25, 'city': 'New York'}\n",
        "# Modifying the value associated with the key 'age'\n",
        "my_dict['age'] = 26\n",
        "# Modifying the value associated with the key 'city'\n",
        "my_dict['city'] = 'Los Angeles'\n",
        "\n",
        "print(my_dict)\n",
        "# Output: {'name': 'Alice', 'age': 26, 'city': 'Los Angeles'}"
      ],
      "metadata": {
        "colab": {
          "base_uri": "https://localhost:8080/"
        },
        "id": "wFV6AvuDS6Cv",
        "outputId": "36b98dad-fd67-46b8-c0df-447308be8467"
      },
      "execution_count": 16,
      "outputs": [
        {
          "output_type": "stream",
          "name": "stdout",
          "text": [
            "{'name': 'Alice', 'age': 26, 'city': 'Los Angeles'}\n"
          ]
        }
      ]
    },
    {
      "cell_type": "markdown",
      "source": [
        "**3. Deleting Items from a Dictionary**\n",
        "\n",
        "There are several ways to delete items from a dictionary:\n",
        "\n",
        "a) Using del Statement\n",
        "\n",
        "The del statement is used to delete a key-value pair from the dictionary by specifying the key\n",
        "\n",
        "    del dictionary[key]"
      ],
      "metadata": {
        "id": "m_9191ZbTAuD"
      }
    },
    {
      "cell_type": "code",
      "source": [
        "#Example Using del\n",
        "my_dict = {'name': 'Alice', 'age': 25, 'city': 'New York'}\n",
        "\n",
        "# Deleting the 'age' key\n",
        "del my_dict['age']\n",
        "\n",
        "print(my_dict)\n",
        "# Output: {'name': 'Alice', 'city': 'New York'}"
      ],
      "metadata": {
        "colab": {
          "base_uri": "https://localhost:8080/"
        },
        "id": "XA-0q4_HTVuk",
        "outputId": "669bcf28-66be-4d9f-bf89-5a77fb7de4cd"
      },
      "execution_count": 17,
      "outputs": [
        {
          "output_type": "stream",
          "name": "stdout",
          "text": [
            "{'name': 'Alice', 'city': 'New York'}\n"
          ]
        }
      ]
    },
    {
      "cell_type": "markdown",
      "source": [
        "b) Using pop() Method\n",
        "\n",
        "The pop() method removes a key-value pair from the dictionary and returns the value associated with the key. If the key doesn’t exist, you can provide a default value to avoid an error.\n",
        "\n",
        "    value = dictionary.pop(key, default_value)"
      ],
      "metadata": {
        "id": "D7s2E9UITa1h"
      }
    },
    {
      "cell_type": "code",
      "source": [
        "#Example Using pop()\n",
        "my_dict = {'name': 'Alice', 'age': 25, 'city': 'New York'}\n",
        "\n",
        "# Removing 'city' and returning its value\n",
        "city = my_dict.pop('city')\n",
        "print(city)       # Output: 'New York'\n",
        "print(my_dict)    # Output: {'name': 'Alice', 'age': 25}"
      ],
      "metadata": {
        "colab": {
          "base_uri": "https://localhost:8080/"
        },
        "id": "cXgA0smbTii7",
        "outputId": "e87b4aeb-6ea9-49f4-a1a5-bee8461ad47c"
      },
      "execution_count": 18,
      "outputs": [
        {
          "output_type": "stream",
          "name": "stdout",
          "text": [
            "New York\n",
            "{'name': 'Alice', 'age': 25}\n"
          ]
        }
      ]
    },
    {
      "cell_type": "markdown",
      "source": [
        "c) Using popitem() Method\n",
        "\n",
        "The popitem() method removes and returns the last inserted key-value pair in Python 3.7+. It's useful when you want to remove items without knowing the key.\n",
        "\n",
        "    key, value = dictionary.popitem()"
      ],
      "metadata": {
        "id": "GaNah36HTtiZ"
      }
    },
    {
      "cell_type": "code",
      "source": [
        "#Example Using popitem()\n",
        "my_dict = {'name': 'Alice', 'age': 25, 'city': 'New York'}\n",
        "\n",
        "# Removing the last item ('city': 'New York')\n",
        "last_item = my_dict.popitem()\n",
        "print(last_item)   # Output: ('city', 'New York')\n",
        "print(my_dict)     # Output: {'name': 'Alice', 'age': 25}"
      ],
      "metadata": {
        "colab": {
          "base_uri": "https://localhost:8080/"
        },
        "id": "j8etEiiLT4me",
        "outputId": "8ecb4708-9b2d-4469-a1da-e491616e5a95"
      },
      "execution_count": 19,
      "outputs": [
        {
          "output_type": "stream",
          "name": "stdout",
          "text": [
            "('city', 'New York')\n",
            "{'name': 'Alice', 'age': 25}\n"
          ]
        }
      ]
    },
    {
      "cell_type": "markdown",
      "source": [
        "d) Using clear() Method\n",
        "\n",
        "The clear() method removes all items from the dictionary, leaving it empty.\n",
        "\n",
        "    dictionary.clear()"
      ],
      "metadata": {
        "id": "gKhDzp6wT-Oo"
      }
    },
    {
      "cell_type": "code",
      "source": [
        "#Example Using clear()\n",
        "my_dict = {'name': 'Alice', 'age': 25, 'city': 'New York'}\n",
        "\n",
        "# Removing all items\n",
        "my_dict.clear()\n",
        "\n",
        "print(my_dict)  # Output: {}"
      ],
      "metadata": {
        "colab": {
          "base_uri": "https://localhost:8080/"
        },
        "id": "GmHkiPonUA8y",
        "outputId": "83014696-f5c4-4ccc-cc9c-ce680b38351e"
      },
      "execution_count": 20,
      "outputs": [
        {
          "output_type": "stream",
          "name": "stdout",
          "text": [
            "{}\n"
          ]
        }
      ]
    },
    {
      "cell_type": "markdown",
      "source": [],
      "metadata": {
        "id": "yjJbcvpoUI0s"
      }
    },
    {
      "cell_type": "markdown",
      "source": [
        "# **Q_8)Discuss the importance of dictionary keys being immutable and provide examples.**\n",
        "\n",
        "**Ans_8)**\n",
        "\n",
        "In Python, the keys of a dictionary must be immutable, meaning that once a key is created, its value cannot be changed. This requirement is crucial for ensuring reliable and efficient dictionary behavior, particularly for hashing purposes.\n",
        "\n",
        "**Hashability:**\n",
        "    Dictionary keys must be hashable, meaning they can be converted into a fixed hash value, which is used to determine the location of the key-value pair in the dictionary's internal structure. Immutable objects, like strings, numbers, and tuples, have fixed hash values, while mutable objects, such as lists and dictionaries, cannot be hashed because their content can change.\n",
        "\n",
        "When a key's value changes, its hash value would also change, causing the dictionary to lose track of where that key is stored. Hence, only immutable types can be used as dictionary keys to maintain consistency.\n",
        "\\\n",
        "\\\n",
        "\\\n",
        "**Efficient Lookups:**\n",
        "    Dictionaries in Python use a hash table for fast lookups. The hash table relies on each key's hash value to quickly access or modify entries. Since mutable objects can change in unpredictable ways, allowing them as keys would break the hash table structure and result in inefficient lookups or errors.\n",
        "\\\n",
        "\\\n",
        "\\\n",
        "**Data Integrity:**\n",
        "    Using immutable objects as dictionary keys ensures that the keys remain constant throughout the program's execution. If keys were allowed to be mutable, it would be difficult to track them if they were changed after insertion. Immutable keys maintain data integrity, making dictionaries reliable for fast data access."
      ],
      "metadata": {
        "id": "8ELO1LYKXmNF"
      }
    },
    {
      "cell_type": "code",
      "source": [
        "#example\n",
        "my_dict = {\n",
        "    \"name\": \"Alice\",\n",
        "    \"age\": 25,\n",
        "    \"city\": \"New York\"\n",
        "}\n",
        "print(my_dict[\"name\"])  # Output: Alice"
      ],
      "metadata": {
        "colab": {
          "base_uri": "https://localhost:8080/"
        },
        "id": "IsQ-CcqkYmjK",
        "outputId": "53a26bcc-d55a-4b3b-93d2-2b195bb8b9e2"
      },
      "execution_count": 33,
      "outputs": [
        {
          "output_type": "stream",
          "name": "stdout",
          "text": [
            "Alice\n"
          ]
        }
      ]
    }
  ]
}